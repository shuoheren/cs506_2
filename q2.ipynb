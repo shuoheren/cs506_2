{
 "cells": [
  {
   "cell_type": "markdown",
   "metadata": {},
   "source": [
    "Shuohe Ren\n",
    "U11807977"
   ]
  },
  {
   "cell_type": "code",
   "execution_count": 2,
   "metadata": {},
   "outputs": [],
   "source": [
    "#2a\n",
    "import numpy as np\n",
    "import sklearn.linear_model as LM\n",
    "from sklearn.model_selection import train_test_split\n",
    "from sklearn.neighbors import KNeighborsClassifier\n",
    "import matplotlib.pyplot as plt\n",
    "\n",
    "\n",
    "def import_data(X, Y):\n",
    "    X = np.load(X)\n",
    "    y = np.load(Y)\n",
    "    return X, y\n",
    "\n",
    "X, y = import_data(\"mnist_data.npy\", \"mnist_labels.npy\")\n",
    "train_X, test_X, train_y, test_y = train_test_split(X, y, test_size=0.2)"
   ]
  },
  {
   "cell_type": "code",
   "execution_count": 3,
   "metadata": {},
   "outputs": [
    {
     "name": "stdout",
     "output_type": "stream",
     "text": [
      "99.3988 %\n",
      "88.8333 %\n"
     ]
    },
    {
     "data": {
      "text/plain": [
       "88.8333"
      ]
     },
     "execution_count": 3,
     "metadata": {},
     "output_type": "execute_result"
    }
   ],
   "source": [
    "#2b\n",
    "def accuracy_cal(prediction, Testy):\n",
    "    count = 0\n",
    "    for i in range(len(prediction)):\n",
    "        if prediction[i] == int(Testy[i]):\n",
    "            count+=1\n",
    "    accuracy = round(count / len(prediction) * 100, 4\n",
    "    )\n",
    "    print(accuracy, \"%\")\n",
    "    return accuracy\n",
    "\n",
    "\n",
    "\n",
    "lr = LM.LogisticRegression(max_iter=500, n_jobs=-2)\n",
    "\n",
    "\n",
    "\n",
    "lr.fit(train_X, train_y)\n",
    "predict = lr.predict(train_X)\n",
    "accuracy_cal(predict, train_y)\n",
    "predict = lr.predict(test_X)\n",
    "accuracy_cal(predict, test_y)"
   ]
  },
  {
   "cell_type": "code",
   "execution_count": 4,
   "metadata": {},
   "outputs": [
    {
     "name": "stdout",
     "output_type": "stream",
     "text": [
      "100.0 %\n",
      "96.6905 %\n",
      "98.1131 %\n",
      "96.119 %\n",
      "97.2917 %\n",
      "95.5714 %\n",
      "96.8452 %\n",
      "95.2619 %\n",
      "96.5238 %\n",
      "95.1905 %\n",
      "96.1726 %\n",
      "94.8571 %\n",
      "95.9583 %\n",
      "94.5476 %\n",
      "95.6369 %\n",
      "94.1667 %\n",
      "95.3393 %\n",
      "94.1429 %\n",
      "95.125 %\n",
      "94.0238 %\n",
      "94.9286 %\n",
      "93.7381 %\n",
      "94.7202 %\n",
      "93.5238 %\n",
      "94.506 %\n",
      "93.5952 %\n"
     ]
    },
    {
     "data": {
      "image/png": "[encoded data removed]",
      "text/plain": [
       "<Figure size 432x288 with 1 Axes>"
      ]
     },
     "metadata": {
      "needs_background": "light"
     },
     "output_type": "display_data"
    }
   ],
   "source": [
    "#2c\n",
    "graph_k = []\n",
    "graph_knn_train = []\n",
    "graph_knn_test = []\n",
    "for k in range(1, 26, 2):\n",
    "    knn = KNeighborsClassifier(n_neighbors=k, n_jobs=-2)\n",
    "    knn.fit(train_X, train_y)\n",
    "    graph_k.append(k)\n",
    "    knn__train = accuracy_cal(knn.predict(train_X), train_y)\n",
    "    graph_knn_train.append(knn__train)\n",
    "    knn_test = accuracy_cal(knn.predict(test_X), test_y)\n",
    "    graph_knn_test.append(knn_test)\n",
    "\n",
    "\n",
    "fig = plt.figure()\n",
    "ax = fig.add_subplot(1, 1, 1)\n",
    "ax.plot(graph_k, graph_knn_train, label='train')\n",
    "ax.plot(graph_k, graph_knn_test, label='test')\n",
    "ax.legend()\n",
    "plt.show()"
   ]
  },
  {
   "cell_type": "markdown",
   "metadata": {},
   "source": [
    "#2d\n",
    "As k increases, the train and the test accuracy decrease. So the best value of k is 1"
   ]
  },
  {
   "cell_type": "code",
   "execution_count": null,
   "metadata": {},
   "outputs": [],
   "source": [
    "#2e\n",
    "# len(train_X)\n",
    "graph_train=[]   \n",
    "graph_test=[]\n",
    "for i in range(5):\n",
    "    number_ = np.random.choice(train_X.shape[0],(i+1)*3000,replace=False)\n",
    "    X_subtrain = train_X[number_]   \n",
    "    y_subtrain = train_y[number_]\n",
    "    knn_ = KNeighborsClassifier(n_neighbors=1).fit(X_subtrain,y_subtrain)  # k=1\n",
    "    graph_train.append(knn_.score(X_subtrain,y_subtrain))\n",
    "    graph_test.append(knn_.score(test_X,test_y))\n",
    "    \n",
    "knn_ = KNeighborsClassifier(n_neighbors=1).fit(train_X,train_y)  \n",
    "graph_train.append(knn_.score(train_X,train_y))\n",
    "graph_test.append(knn_.score(test_X,test_y))\n",
    "\n",
    "fig = plt.figure()\n",
    "ax = fig.add_subplot(1, 1, 1)\n",
    "k = [3000,6000,9000,12000,15000,16800]            \n",
    "ax.plot(k,graph_train,label='train')                    \n",
    "ax.plot(k,graph_test,label='test')      \n",
    "ax.legend()              \n",
    "plt.show()"
   ]
  },
  {
   "cell_type": "markdown",
   "metadata": {},
   "source": [
    "#2f\n",
    "Least Squares(Linear Regression)\n",
    "pros:\n",
    "1. It is simple and very easy to understand\n",
    "2. It is the best linear unbiased estimator\n",
    "3. It can be applied to a broad range of situations\n",
    "cons:\n",
    "1. It is very sensitive to outliers\n",
    "2. It might not be reliable when train data is not normally distributed\n",
    "\n",
    "Logistic Regression\n",
    "pros:\n",
    "1. It is very fast at classifying unknown data\n",
    "2. It is not vulnerable to outliers\n",
    "3. Good accuracy\n",
    "cons:\n",
    "1. It does not perform well when data points are dependent on each other\n",
    "2. It assumes the linearity between the dependent variable and the independent variables\n",
    "\n",
    "K-Nearest Neighbor\n",
    "pros:\n",
    "1. It is simple and easy to understand\n",
    "2. It has no assumptions\n",
    "3. It can be used both for classification and regression\n",
    "cons:\n",
    "1. It runs for a long time\n",
    "2. Need to find the best value of k"
   ]
  }
 ],
 "metadata": {
  "kernelspec": {
   "display_name": "Python 3",
   "language": "python",
   "name": "python3"
  },
  "language_info": {
   "codemirror_mode": {
    "name": "ipython",
    "version": 3
   },
   "file_extension": ".py",
   "mimetype": "text/x-python",
   "name": "python",
   "nbconvert_exporter": "python",
   "pygments_lexer": "ipython3",
   "version": "3.8.3"
  }
 },
 "nbformat": 4,
 "nbformat_minor": 2
}
